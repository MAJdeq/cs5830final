{
 "cells": [
  {
   "cell_type": "code",
   "execution_count": 4,
   "id": "f4bdf844",
   "metadata": {},
   "outputs": [],
   "source": [
    "from bs4 import BeautifulSoup\n",
    "import pandas as pd\n",
    "\n",
    "# Load the XML file\n",
    "with open('extracted.xml', 'r') as file:\n",
    "    xml_data = file.read()\n",
    "\n",
    "# Parse the XML using BeautifulSoup\n",
    "soup = BeautifulSoup(xml_data, 'html.parser')\n",
    "\n",
    "data = []\n",
    "\n",
    "# List of known rankings to check for\n",
    "rankings = ['Featured article', 'Good article']\n",
    "\n",
    "# Iterate through <page> elements\n",
    "for page in soup.find_all('page'):\n",
    "    title = page.find('title').text if page.find('title') else 'No title'\n",
    "\n",
    "    # Append the data as a dictionary\n",
    "    data.append({\n",
    "        'Title': title,\n",
    "    })\n",
    "\n",
    "\n",
    "\n",
    "df = pd.DataFrame(data)\n"
   ]
  },
  {
   "cell_type": "code",
   "execution_count": 5,
   "id": "6b5263d1",
   "metadata": {},
   "outputs": [
    {
     "name": "stdout",
     "output_type": "stream",
     "text": [
      "                          Title Ranking\n",
      "0               Abraham Lincoln      GA\n",
      "1                      Ayn Rand      GA\n",
      "2                     Amphibian      FA\n",
      "3                     Apollo 11      FA\n",
      "4                      Apollo 8      FA\n",
      "...                         ...     ...\n",
      "35958  Louis-Stanislas Montjoie       B\n",
      "35959          Hurricane Rafael       C\n",
      "35960        Shaheda Akter Ripa   Start\n",
      "35961               Nancy Bowen       B\n",
      "35962           Priscilla Prado    Stub\n",
      "\n",
      "[35963 rows x 2 columns]\n"
     ]
    }
   ],
   "source": [
    "# Reading all text files from the \"selected articles by rank\" folder\n",
    "folder_path = \"selected articles by rank\"\n",
    "\n",
    "# Looping through all files\n",
    "import os\n",
    "for file_name in os.listdir(folder_path):\n",
    "    if file_name.endswith(\".txt\"):\n",
    "        parts = file_name.split(\"_\")\n",
    "        ranking = parts[0]  # The part before the underscore (e.g., \"A\", \"B\")\n",
    "        \n",
    "        with open(f\"{folder_path}/{file_name}\", \"r\") as file:\n",
    "            lines = file.readlines()\n",
    "            \n",
    "            # Iterate over each line in the file\n",
    "            for line in lines:\n",
    "                line = line.strip()  # Remove leading/trailing whitespace\n",
    "                # If the line matches a title in the DataFrame, assign the ranking\n",
    "                df.loc[df['Title'] == line, 'Ranking'] = ranking\n",
    "\n",
    "print(df)\n"
   ]
  }
 ],
 "metadata": {
  "kernelspec": {
   "display_name": "Python 3",
   "language": "python",
   "name": "python3"
  },
  "language_info": {
   "codemirror_mode": {
    "name": "ipython",
    "version": 3
   },
   "file_extension": ".py",
   "mimetype": "text/x-python",
   "name": "python",
   "nbconvert_exporter": "python",
   "pygments_lexer": "ipython3",
   "version": "3.9.6"
  }
 },
 "nbformat": 4,
 "nbformat_minor": 5
}
